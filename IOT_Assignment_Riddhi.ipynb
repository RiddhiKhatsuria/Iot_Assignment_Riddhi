{
  "nbformat": 4,
  "nbformat_minor": 0,
  "metadata": {
    "colab": {
      "name": "IOT_Assignment_Riddhi.ipynb",
      "provenance": [],
      "collapsed_sections": []
    },
    "kernelspec": {
      "name": "python3",
      "display_name": "Python 3"
    },
    "language_info": {
      "name": "python"
    }
  },
  "cells": [
    {
      "cell_type": "code",
      "metadata": {
        "colab": {
          "base_uri": "https://localhost:8080/"
        },
        "id": "1y1y84rYdNTd",
        "outputId": "09829112-1dc7-4ceb-b3e4-905a8470598e"
      },
      "source": [
        "pip install paho-mqtt"
      ],
      "execution_count": 9,
      "outputs": [
        {
          "output_type": "stream",
          "text": [
            "Requirement already satisfied: paho-mqtt in /usr/local/lib/python3.7/dist-packages (1.5.1)\n"
          ],
          "name": "stdout"
        }
      ]
    },
    {
      "cell_type": "code",
      "metadata": {
        "colab": {
          "base_uri": "https://localhost:8080/"
        },
        "id": "ZQsILc94-3VU",
        "outputId": "53b26192-d432-49e5-f257-059c206aab8b"
      },
      "source": [
        "import paho.mqtt.client as mqtt\n",
        "import random\n",
        "\n",
        "# The callback for when the client receives a CONNACK response from the server.\n",
        "def on_connect(client, userdata, flags, rc):\n",
        "    if rc == 0:\n",
        "        print(\"Connected successfully\")\n",
        "    else:\n",
        "        print(\"Connect returned result code: \" + str(rc))\n",
        "\n",
        "# The callback for when a PUBLISH message is received from the server.\n",
        "def on_message(client, userdata, msg):\n",
        "    print(\"Received message: \" + msg.topic + \" -> \" + msg.payload.decode(\"utf-8\"))\n",
        "\n",
        "# create the client\n",
        "client = mqtt.Client()\n",
        "client.on_connect = on_connect\n",
        "client.on_message = on_message\n",
        "\n",
        "# enable TLS\n",
        "client.tls_set(tls_version=mqtt.ssl.PROTOCOL_TLS)\n",
        "\n",
        "# set username and password\n",
        "client.username_pw_set(\"riddhi.khatsuria@einfochips.com\", \"ParthRiddhi2721\")\n",
        "\n",
        "# connect to HiveMQ Cloud on port 8883\n",
        "client.connect(\"9dfdf3a5152342d1bc6759b7b1af17c2.s1.eu.hivemq.cloud\", 8883)\n",
        "# subscribe to the topic \"tmp\"\n",
        "client.subscribe(\"tmp\")\n",
        "\n",
        "# subscribe to the topic \"pressure\"\n",
        "client.subscribe(\"pressure\")\n",
        "\n",
        "# subscribe to the topic \"humidity\"\n",
        "client.subscribe(\"humidity\")\n",
        "\n",
        "# subscribe to the topic \"alert\"\n",
        "client.subscribe(\"alert\")\n",
        "  \n",
        "for i in range(10):\n",
        "  tmp = random.randint(25, 30)\n",
        "  pressure = random.randint(850, 900)\n",
        "  humidity = random.randint(10, 15)\n",
        "  alert=\"\"\n",
        "  if((tmp > 28) and (pressure > 870) and (humidity > 12)):\n",
        "    alert = \"alert\"\n",
        "  \n",
        "  # publish \"Temperature\" to the topic \"tmp\"\n",
        "  client.publish(\"tmp\", tmp)\n",
        "\n",
        "  # publish \"Pressure\" to the topic \"pressure\"\n",
        "  client.publish(\"pressure\", pressure)\n",
        "\n",
        "  # publish \"Humidity\" to the topic \"humidity\"\n",
        "  client.publish(\"humidity\", humidity)\n",
        "\n",
        "  # publish \"Alert\" to the topic \"alert\"\n",
        "  client.publish(\"alert\", alert)\n",
        "\n",
        "\n",
        "# Blocking call that processes network traffic, dispatches callbacks and handles reconnecting.\n",
        "client.loop_forever()\n"
      ],
      "execution_count": null,
      "outputs": [
        {
          "output_type": "stream",
          "text": [
            "Connected successfully\n",
            "Received message: humidity -> 14\n",
            "Received message: humidity -> 11\n",
            "Received message: humidity -> 10\n",
            "Received message: humidity -> 10\n",
            "Received message: humidity -> 13\n",
            "Received message: humidity -> 13\n",
            "Received message: humidity -> 12\n",
            "Received message: tmp -> 29\n",
            "Received message: alert -> \n",
            "Received message: tmp -> 25\n",
            "Received message: alert -> \n",
            "Received message: alert -> \n",
            "Received message: pressure -> 859\n",
            "Received message: alert -> \n",
            "Received message: tmp -> 25\n",
            "Received message: tmp -> 30\n",
            "Received message: tmp -> 29\n",
            "Received message: tmp -> 27\n",
            "Received message: alert -> alert\n",
            "Received message: alert -> \n",
            "Received message: tmp -> 25\n",
            "Received message: alert -> \n",
            "Received message: pressure -> 889\n",
            "Received message: pressure -> 870\n",
            "Received message: pressure -> 852\n",
            "Received message: pressure -> 882\n",
            "Received message: pressure -> 856\n",
            "Received message: pressure -> 871\n",
            "Received message: humidity -> 11\n",
            "Received message: humidity -> 12\n",
            "Received message: humidity -> 11\n",
            "Received message: alert -> \n",
            "Received message: alert -> \n",
            "Received message: alert -> \n",
            "Received message: tmp -> 29\n",
            "Received message: tmp -> 26\n",
            "Received message: tmp -> 30\n",
            "Received message: pressure -> 890\n",
            "Received message: pressure -> 898\n",
            "Received message: pressure -> 881\n"
          ],
          "name": "stdout"
        }
      ]
    }
  ]
}